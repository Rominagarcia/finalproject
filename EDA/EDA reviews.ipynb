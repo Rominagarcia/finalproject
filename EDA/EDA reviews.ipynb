{
 "cells": [
  {
   "cell_type": "code",
   "execution_count": 20,
   "metadata": {},
   "outputs": [],
   "source": [
    "import pandas as pd\n",
    "import numpy as np\n",
    "import seaborn as sns\n",
    "import plotly.graph_objects as go\n",
    "import plotly.express as px"
   ]
  },
  {
   "cell_type": "markdown",
   "metadata": {},
   "source": [
    "## SinergyData\n",
    "carga de dataset"
   ]
  },
  {
   "cell_type": "code",
   "execution_count": 32,
   "metadata": {},
   "outputs": [],
   "source": [
    "california = pd.read_csv(\"../reseñas california/review_california.csv\")\n",
    "las_vegas = pd.read_csv(\"../reseñas las vegas/review_las_vegas.csv\")\n",
    "nueva_york= pd.read_csv(\"../reseñas ny/review_ny.csv\")\n"
   ]
  },
  {
   "cell_type": "markdown",
   "metadata": {},
   "source": []
  },
  {
   "cell_type": "markdown",
   "metadata": {},
   "source": [
    "descripcion de datos \n"
   ]
  },
  {
   "cell_type": "code",
   "execution_count": 33,
   "metadata": {},
   "outputs": [
    {
     "data": {
      "text/html": [
       "<div>\n",
       "<style scoped>\n",
       "    .dataframe tbody tr th:only-of-type {\n",
       "        vertical-align: middle;\n",
       "    }\n",
       "\n",
       "    .dataframe tbody tr th {\n",
       "        vertical-align: top;\n",
       "    }\n",
       "\n",
       "    .dataframe thead th {\n",
       "        text-align: right;\n",
       "    }\n",
       "</style>\n",
       "<table border=\"1\" class=\"dataframe\">\n",
       "  <thead>\n",
       "    <tr style=\"text-align: right;\">\n",
       "      <th></th>\n",
       "      <th>user_id</th>\n",
       "      <th>name</th>\n",
       "      <th>time</th>\n",
       "      <th>rating</th>\n",
       "      <th>text</th>\n",
       "      <th>pics</th>\n",
       "      <th>resp</th>\n",
       "      <th>gmap_id</th>\n",
       "    </tr>\n",
       "  </thead>\n",
       "  <tbody>\n",
       "    <tr>\n",
       "      <th>0</th>\n",
       "      <td>1.089268e+20</td>\n",
       "      <td>Christopher Thomas Constantino</td>\n",
       "      <td>2021-06-12 23:27:17.434</td>\n",
       "      <td>4</td>\n",
       "      <td>Great pet friendly place on the American River...</td>\n",
       "      <td>[{'url': ['https://lh5.googleusercontent.com/p...</td>\n",
       "      <td>{'time': 1623778784860, 'text': 'Thank you for...</td>\n",
       "      <td>0x809a55833fbe05ad:0xee6507787fb6a26c</td>\n",
       "    </tr>\n",
       "    <tr>\n",
       "      <th>1</th>\n",
       "      <td>1.147835e+20</td>\n",
       "      <td>Valley Girl</td>\n",
       "      <td>2020-11-06 01:35:04.569</td>\n",
       "      <td>5</td>\n",
       "      <td>Beautiful outdoorsy getaway. Kitchenette cotta...</td>\n",
       "      <td>NaN</td>\n",
       "      <td>{'time': 1610999719328, 'text': 'Thank you Val...</td>\n",
       "      <td>0x809a55833fbe05ad:0xee6507787fb6a26c</td>\n",
       "    </tr>\n",
       "    <tr>\n",
       "      <th>2</th>\n",
       "      <td>1.158307e+20</td>\n",
       "      <td>John Barringer</td>\n",
       "      <td>2020-11-01 03:06:47.321</td>\n",
       "      <td>5</td>\n",
       "      <td>I was the chef at this evening's wedding. I wa...</td>\n",
       "      <td>NaN</td>\n",
       "      <td>{'time': 1604207570230, 'text': 'Thank you Joh...</td>\n",
       "      <td>0x809a55833fbe05ad:0xee6507787fb6a26c</td>\n",
       "    </tr>\n",
       "    <tr>\n",
       "      <th>3</th>\n",
       "      <td>1.083060e+20</td>\n",
       "      <td>Missey Iverson</td>\n",
       "      <td>2021-06-08 15:35:00.137</td>\n",
       "      <td>5</td>\n",
       "      <td>I am trying  to book a small cabin.  Help.  😆</td>\n",
       "      <td>NaN</td>\n",
       "      <td>{'time': 1623178567495, 'text': \"Well this is ...</td>\n",
       "      <td>0x809a55833fbe05ad:0xee6507787fb6a26c</td>\n",
       "    </tr>\n",
       "    <tr>\n",
       "      <th>4</th>\n",
       "      <td>1.165939e+20</td>\n",
       "      <td>Larry S.</td>\n",
       "      <td>2018-04-09 16:11:16.898</td>\n",
       "      <td>5</td>\n",
       "      <td>My kids and I spent part of last week in Colom...</td>\n",
       "      <td>NaN</td>\n",
       "      <td>{'time': 1592523694586, 'text': 'Thank you Lar...</td>\n",
       "      <td>0x809a55833fbe05ad:0xee6507787fb6a26c</td>\n",
       "    </tr>\n",
       "  </tbody>\n",
       "</table>\n",
       "</div>"
      ],
      "text/plain": [
       "        user_id                            name                     time   \n",
       "0  1.089268e+20  Christopher Thomas Constantino  2021-06-12 23:27:17.434  \\\n",
       "1  1.147835e+20                     Valley Girl  2020-11-06 01:35:04.569   \n",
       "2  1.158307e+20                  John Barringer  2020-11-01 03:06:47.321   \n",
       "3  1.083060e+20                  Missey Iverson  2021-06-08 15:35:00.137   \n",
       "4  1.165939e+20                        Larry S.  2018-04-09 16:11:16.898   \n",
       "\n",
       "   rating                                               text   \n",
       "0       4  Great pet friendly place on the American River...  \\\n",
       "1       5  Beautiful outdoorsy getaway. Kitchenette cotta...   \n",
       "2       5  I was the chef at this evening's wedding. I wa...   \n",
       "3       5      I am trying  to book a small cabin.  Help.  😆   \n",
       "4       5  My kids and I spent part of last week in Colom...   \n",
       "\n",
       "                                                pics   \n",
       "0  [{'url': ['https://lh5.googleusercontent.com/p...  \\\n",
       "1                                                NaN   \n",
       "2                                                NaN   \n",
       "3                                                NaN   \n",
       "4                                                NaN   \n",
       "\n",
       "                                                resp   \n",
       "0  {'time': 1623778784860, 'text': 'Thank you for...  \\\n",
       "1  {'time': 1610999719328, 'text': 'Thank you Val...   \n",
       "2  {'time': 1604207570230, 'text': 'Thank you Joh...   \n",
       "3  {'time': 1623178567495, 'text': \"Well this is ...   \n",
       "4  {'time': 1592523694586, 'text': 'Thank you Lar...   \n",
       "\n",
       "                                 gmap_id  \n",
       "0  0x809a55833fbe05ad:0xee6507787fb6a26c  \n",
       "1  0x809a55833fbe05ad:0xee6507787fb6a26c  \n",
       "2  0x809a55833fbe05ad:0xee6507787fb6a26c  \n",
       "3  0x809a55833fbe05ad:0xee6507787fb6a26c  \n",
       "4  0x809a55833fbe05ad:0xee6507787fb6a26c  "
      ]
     },
     "execution_count": 33,
     "metadata": {},
     "output_type": "execute_result"
    }
   ],
   "source": [
    "california.head(5)"
   ]
  },
  {
   "cell_type": "code",
   "execution_count": 34,
   "metadata": {},
   "outputs": [
    {
     "data": {
      "text/html": [
       "<div>\n",
       "<style scoped>\n",
       "    .dataframe tbody tr th:only-of-type {\n",
       "        vertical-align: middle;\n",
       "    }\n",
       "\n",
       "    .dataframe tbody tr th {\n",
       "        vertical-align: top;\n",
       "    }\n",
       "\n",
       "    .dataframe thead th {\n",
       "        text-align: right;\n",
       "    }\n",
       "</style>\n",
       "<table border=\"1\" class=\"dataframe\">\n",
       "  <thead>\n",
       "    <tr style=\"text-align: right;\">\n",
       "      <th></th>\n",
       "      <th>user_id</th>\n",
       "      <th>name</th>\n",
       "      <th>time</th>\n",
       "      <th>rating</th>\n",
       "      <th>text</th>\n",
       "      <th>pics</th>\n",
       "      <th>resp</th>\n",
       "      <th>gmap_id</th>\n",
       "    </tr>\n",
       "  </thead>\n",
       "  <tbody>\n",
       "    <tr>\n",
       "      <th>0</th>\n",
       "      <td>1.064355e+20</td>\n",
       "      <td>A Hard Worker</td>\n",
       "      <td>2021-02-18 16:40:51.812</td>\n",
       "      <td>5</td>\n",
       "      <td>Very unique place! Clean, pleasant and efficie...</td>\n",
       "      <td>NaN</td>\n",
       "      <td>NaN</td>\n",
       "      <td>0x80c8c377584fbfcf:0x73336cb8a6e11a6d</td>\n",
       "    </tr>\n",
       "    <tr>\n",
       "      <th>1</th>\n",
       "      <td>1.175568e+20</td>\n",
       "      <td>Greg Evans</td>\n",
       "      <td>2020-02-15 00:22:45.364</td>\n",
       "      <td>5</td>\n",
       "      <td>We had a gr8 time meeting all the We Grow Wome...</td>\n",
       "      <td>NaN</td>\n",
       "      <td>NaN</td>\n",
       "      <td>0x80c8c377584fbfcf:0x73336cb8a6e11a6d</td>\n",
       "    </tr>\n",
       "    <tr>\n",
       "      <th>2</th>\n",
       "      <td>1.052251e+20</td>\n",
       "      <td>Trina p</td>\n",
       "      <td>2018-08-29 15:46:28.137</td>\n",
       "      <td>4</td>\n",
       "      <td>Very unique place with 5 different themed rooms.</td>\n",
       "      <td>NaN</td>\n",
       "      <td>NaN</td>\n",
       "      <td>0x80c8c377584fbfcf:0x73336cb8a6e11a6d</td>\n",
       "    </tr>\n",
       "    <tr>\n",
       "      <th>3</th>\n",
       "      <td>1.156929e+20</td>\n",
       "      <td>Julie Weskamp</td>\n",
       "      <td>2018-08-22 00:04:45.556</td>\n",
       "      <td>5</td>\n",
       "      <td>Super cute, unique. Off the strip fun.</td>\n",
       "      <td>NaN</td>\n",
       "      <td>NaN</td>\n",
       "      <td>0x80c8c377584fbfcf:0x73336cb8a6e11a6d</td>\n",
       "    </tr>\n",
       "    <tr>\n",
       "      <th>4</th>\n",
       "      <td>1.035557e+20</td>\n",
       "      <td>the chef garza</td>\n",
       "      <td>2020-02-14 03:59:35.128</td>\n",
       "      <td>5</td>\n",
       "      <td>Best ever!!!</td>\n",
       "      <td>NaN</td>\n",
       "      <td>NaN</td>\n",
       "      <td>0x80c8c377584fbfcf:0x73336cb8a6e11a6d</td>\n",
       "    </tr>\n",
       "  </tbody>\n",
       "</table>\n",
       "</div>"
      ],
      "text/plain": [
       "        user_id            name                     time  rating   \n",
       "0  1.064355e+20   A Hard Worker  2021-02-18 16:40:51.812       5  \\\n",
       "1  1.175568e+20      Greg Evans  2020-02-15 00:22:45.364       5   \n",
       "2  1.052251e+20         Trina p  2018-08-29 15:46:28.137       4   \n",
       "3  1.156929e+20   Julie Weskamp  2018-08-22 00:04:45.556       5   \n",
       "4  1.035557e+20  the chef garza  2020-02-14 03:59:35.128       5   \n",
       "\n",
       "                                                text pics resp   \n",
       "0  Very unique place! Clean, pleasant and efficie...  NaN  NaN  \\\n",
       "1  We had a gr8 time meeting all the We Grow Wome...  NaN  NaN   \n",
       "2   Very unique place with 5 different themed rooms.  NaN  NaN   \n",
       "3             Super cute, unique. Off the strip fun.  NaN  NaN   \n",
       "4                                       Best ever!!!  NaN  NaN   \n",
       "\n",
       "                                 gmap_id  \n",
       "0  0x80c8c377584fbfcf:0x73336cb8a6e11a6d  \n",
       "1  0x80c8c377584fbfcf:0x73336cb8a6e11a6d  \n",
       "2  0x80c8c377584fbfcf:0x73336cb8a6e11a6d  \n",
       "3  0x80c8c377584fbfcf:0x73336cb8a6e11a6d  \n",
       "4  0x80c8c377584fbfcf:0x73336cb8a6e11a6d  "
      ]
     },
     "execution_count": 34,
     "metadata": {},
     "output_type": "execute_result"
    }
   ],
   "source": [
    "las_vegas.head(5)"
   ]
  },
  {
   "cell_type": "code",
   "execution_count": 14,
   "metadata": {},
   "outputs": [
    {
     "data": {
      "text/html": [
       "<div>\n",
       "<style scoped>\n",
       "    .dataframe tbody tr th:only-of-type {\n",
       "        vertical-align: middle;\n",
       "    }\n",
       "\n",
       "    .dataframe tbody tr th {\n",
       "        vertical-align: top;\n",
       "    }\n",
       "\n",
       "    .dataframe thead th {\n",
       "        text-align: right;\n",
       "    }\n",
       "</style>\n",
       "<table border=\"1\" class=\"dataframe\">\n",
       "  <thead>\n",
       "    <tr style=\"text-align: right;\">\n",
       "      <th></th>\n",
       "      <th>user_id</th>\n",
       "      <th>name</th>\n",
       "      <th>time</th>\n",
       "      <th>rating</th>\n",
       "      <th>text</th>\n",
       "      <th>pics</th>\n",
       "      <th>resp</th>\n",
       "      <th>gmap_id</th>\n",
       "    </tr>\n",
       "  </thead>\n",
       "  <tbody>\n",
       "    <tr>\n",
       "      <th>0</th>\n",
       "      <td>1.040650e+20</td>\n",
       "      <td>Katie K</td>\n",
       "      <td>2021-07-07 10:34:18.257</td>\n",
       "      <td>5</td>\n",
       "      <td>If I could give this place even more stars I w...</td>\n",
       "      <td>NaN</td>\n",
       "      <td>{'time': 1625669318347, 'text': 'Thanks so muc...</td>\n",
       "      <td>0x89d486fb46b35e0f:0xf89fc350fa1c93f0</td>\n",
       "    </tr>\n",
       "    <tr>\n",
       "      <th>1</th>\n",
       "      <td>1.156591e+20</td>\n",
       "      <td>Nick Nyhan</td>\n",
       "      <td>2020-11-09 15:36:18.554</td>\n",
       "      <td>5</td>\n",
       "      <td>Pulled in there after Niagara Falls visit. Rea...</td>\n",
       "      <td>[{'url': ['https://lh5.googleusercontent.com/p...</td>\n",
       "      <td>{'time': 1604949989257, 'text': 'Thanks for th...</td>\n",
       "      <td>0x89d486fb46b35e0f:0xf89fc350fa1c93f0</td>\n",
       "    </tr>\n",
       "    <tr>\n",
       "      <th>2</th>\n",
       "      <td>1.005289e+20</td>\n",
       "      <td>JustGoFlyVinnie</td>\n",
       "      <td>2020-10-26 13:20:32.178</td>\n",
       "      <td>5</td>\n",
       "      <td>I can't rate this hidden gem high enough. We g...</td>\n",
       "      <td>[{'url': ['https://lh5.googleusercontent.com/p...</td>\n",
       "      <td>{'time': 1603735958781, 'text': 'Thanks so muc...</td>\n",
       "      <td>0x89d486fb46b35e0f:0xf89fc350fa1c93f0</td>\n",
       "    </tr>\n",
       "    <tr>\n",
       "      <th>3</th>\n",
       "      <td>1.122109e+20</td>\n",
       "      <td>Matt Carroll</td>\n",
       "      <td>2019-08-18 12:48:42.676</td>\n",
       "      <td>5</td>\n",
       "      <td>We rented the hotel for a company party for th...</td>\n",
       "      <td>NaN</td>\n",
       "      <td>{'time': 1566149806295, 'text': 'Thanks for th...</td>\n",
       "      <td>0x89d486fb46b35e0f:0xf89fc350fa1c93f0</td>\n",
       "    </tr>\n",
       "    <tr>\n",
       "      <th>4</th>\n",
       "      <td>1.149143e+20</td>\n",
       "      <td>Russell Larsen</td>\n",
       "      <td>2019-01-12 11:04:50.798</td>\n",
       "      <td>5</td>\n",
       "      <td>What a Jem. Great place to host a wedding or p...</td>\n",
       "      <td>NaN</td>\n",
       "      <td>NaN</td>\n",
       "      <td>0x89d486fb46b35e0f:0xf89fc350fa1c93f0</td>\n",
       "    </tr>\n",
       "  </tbody>\n",
       "</table>\n",
       "</div>"
      ],
      "text/plain": [
       "        user_id             name                     time  rating   \n",
       "0  1.040650e+20          Katie K  2021-07-07 10:34:18.257       5  \\\n",
       "1  1.156591e+20       Nick Nyhan  2020-11-09 15:36:18.554       5   \n",
       "2  1.005289e+20  JustGoFlyVinnie  2020-10-26 13:20:32.178       5   \n",
       "3  1.122109e+20     Matt Carroll  2019-08-18 12:48:42.676       5   \n",
       "4  1.149143e+20   Russell Larsen  2019-01-12 11:04:50.798       5   \n",
       "\n",
       "                                                text   \n",
       "0  If I could give this place even more stars I w...  \\\n",
       "1  Pulled in there after Niagara Falls visit. Rea...   \n",
       "2  I can't rate this hidden gem high enough. We g...   \n",
       "3  We rented the hotel for a company party for th...   \n",
       "4  What a Jem. Great place to host a wedding or p...   \n",
       "\n",
       "                                                pics   \n",
       "0                                                NaN  \\\n",
       "1  [{'url': ['https://lh5.googleusercontent.com/p...   \n",
       "2  [{'url': ['https://lh5.googleusercontent.com/p...   \n",
       "3                                                NaN   \n",
       "4                                                NaN   \n",
       "\n",
       "                                                resp   \n",
       "0  {'time': 1625669318347, 'text': 'Thanks so muc...  \\\n",
       "1  {'time': 1604949989257, 'text': 'Thanks for th...   \n",
       "2  {'time': 1603735958781, 'text': 'Thanks so muc...   \n",
       "3  {'time': 1566149806295, 'text': 'Thanks for th...   \n",
       "4                                                NaN   \n",
       "\n",
       "                                 gmap_id  \n",
       "0  0x89d486fb46b35e0f:0xf89fc350fa1c93f0  \n",
       "1  0x89d486fb46b35e0f:0xf89fc350fa1c93f0  \n",
       "2  0x89d486fb46b35e0f:0xf89fc350fa1c93f0  \n",
       "3  0x89d486fb46b35e0f:0xf89fc350fa1c93f0  \n",
       "4  0x89d486fb46b35e0f:0xf89fc350fa1c93f0  "
      ]
     },
     "execution_count": 14,
     "metadata": {},
     "output_type": "execute_result"
    }
   ],
   "source": [
    "nueva_york.head(5)"
   ]
  },
  {
   "cell_type": "code",
   "execution_count": 35,
   "metadata": {},
   "outputs": [
    {
     "name": "stdout",
     "output_type": "stream",
     "text": [
      "(6088, 8)\n"
     ]
    },
    {
     "data": {
      "text/html": [
       "<div>\n",
       "<style scoped>\n",
       "    .dataframe tbody tr th:only-of-type {\n",
       "        vertical-align: middle;\n",
       "    }\n",
       "\n",
       "    .dataframe tbody tr th {\n",
       "        vertical-align: top;\n",
       "    }\n",
       "\n",
       "    .dataframe thead th {\n",
       "        text-align: right;\n",
       "    }\n",
       "</style>\n",
       "<table border=\"1\" class=\"dataframe\">\n",
       "  <thead>\n",
       "    <tr style=\"text-align: right;\">\n",
       "      <th></th>\n",
       "      <th>user_id</th>\n",
       "      <th>name</th>\n",
       "      <th>time</th>\n",
       "      <th>rating</th>\n",
       "      <th>text</th>\n",
       "      <th>pics</th>\n",
       "      <th>resp</th>\n",
       "      <th>gmap_id</th>\n",
       "    </tr>\n",
       "  </thead>\n",
       "  <tbody>\n",
       "    <tr>\n",
       "      <th>6078</th>\n",
       "      <td>1.073504e+20</td>\n",
       "      <td>Ashish Mishra</td>\n",
       "      <td>2017-09-04 00:37:53.111</td>\n",
       "      <td>3</td>\n",
       "      <td>Rooms are clean, but small.. breakfast choice ...</td>\n",
       "      <td>NaN</td>\n",
       "      <td>NaN</td>\n",
       "      <td>0x89dfce4984aaa485:0xacbd33cecf7d50d4</td>\n",
       "    </tr>\n",
       "    <tr>\n",
       "      <th>6079</th>\n",
       "      <td>1.086090e+20</td>\n",
       "      <td>Harry E</td>\n",
       "      <td>2017-08-22 17:48:07.673</td>\n",
       "      <td>3</td>\n",
       "      <td>Seems to be a decent place but kind of pricey ...</td>\n",
       "      <td>NaN</td>\n",
       "      <td>NaN</td>\n",
       "      <td>0x89dfce4984aaa485:0xacbd33cecf7d50d4</td>\n",
       "    </tr>\n",
       "    <tr>\n",
       "      <th>6080</th>\n",
       "      <td>1.025835e+20</td>\n",
       "      <td>Deneen Homer</td>\n",
       "      <td>2016-10-12 17:33:52.337</td>\n",
       "      <td>2</td>\n",
       "      <td>Horrible customer service...minimum clean</td>\n",
       "      <td>NaN</td>\n",
       "      <td>NaN</td>\n",
       "      <td>0x89dfce4984aaa485:0xacbd33cecf7d50d4</td>\n",
       "    </tr>\n",
       "    <tr>\n",
       "      <th>6081</th>\n",
       "      <td>1.144082e+20</td>\n",
       "      <td>Anumit Sasidharan</td>\n",
       "      <td>2016-05-30 07:31:40.850</td>\n",
       "      <td>4</td>\n",
       "      <td>Reasonably clean and good amenities for the pr...</td>\n",
       "      <td>NaN</td>\n",
       "      <td>NaN</td>\n",
       "      <td>0x89dfce4984aaa485:0xacbd33cecf7d50d4</td>\n",
       "    </tr>\n",
       "    <tr>\n",
       "      <th>6082</th>\n",
       "      <td>1.141696e+20</td>\n",
       "      <td>Manuel Medina</td>\n",
       "      <td>2016-04-26 07:42:28.910</td>\n",
       "      <td>4</td>\n",
       "      <td>Nice rooms</td>\n",
       "      <td>NaN</td>\n",
       "      <td>NaN</td>\n",
       "      <td>0x89dfce4984aaa485:0xacbd33cecf7d50d4</td>\n",
       "    </tr>\n",
       "    <tr>\n",
       "      <th>6083</th>\n",
       "      <td>1.127285e+20</td>\n",
       "      <td>Don Todd</td>\n",
       "      <td>2018-03-20 02:12:33.163</td>\n",
       "      <td>1</td>\n",
       "      <td>NaN</td>\n",
       "      <td>NaN</td>\n",
       "      <td>NaN</td>\n",
       "      <td>0x89dfce4984aaa485:0xacbd33cecf7d50d4</td>\n",
       "    </tr>\n",
       "    <tr>\n",
       "      <th>6084</th>\n",
       "      <td>1.040970e+20</td>\n",
       "      <td>Luc “190falcon” Blanchette</td>\n",
       "      <td>2017-02-05 12:06:51.870</td>\n",
       "      <td>3</td>\n",
       "      <td>NaN</td>\n",
       "      <td>NaN</td>\n",
       "      <td>NaN</td>\n",
       "      <td>0x89dfce4984aaa485:0xacbd33cecf7d50d4</td>\n",
       "    </tr>\n",
       "    <tr>\n",
       "      <th>6085</th>\n",
       "      <td>1.032762e+20</td>\n",
       "      <td>Kathy Reeks</td>\n",
       "      <td>2018-02-26 14:43:08.810</td>\n",
       "      <td>5</td>\n",
       "      <td>NaN</td>\n",
       "      <td>NaN</td>\n",
       "      <td>NaN</td>\n",
       "      <td>0x89dfce4984aaa485:0xacbd33cecf7d50d4</td>\n",
       "    </tr>\n",
       "    <tr>\n",
       "      <th>6086</th>\n",
       "      <td>1.028247e+20</td>\n",
       "      <td>Matthew Gordon</td>\n",
       "      <td>2018-03-20 06:25:39.435</td>\n",
       "      <td>3</td>\n",
       "      <td>NaN</td>\n",
       "      <td>NaN</td>\n",
       "      <td>NaN</td>\n",
       "      <td>0x89dfce4984aaa485:0xacbd33cecf7d50d4</td>\n",
       "    </tr>\n",
       "    <tr>\n",
       "      <th>6087</th>\n",
       "      <td>1.029704e+20</td>\n",
       "      <td>Charlene Cook</td>\n",
       "      <td>2017-10-07 08:14:14.038</td>\n",
       "      <td>1</td>\n",
       "      <td>NaN</td>\n",
       "      <td>NaN</td>\n",
       "      <td>NaN</td>\n",
       "      <td>0x89dfce4984aaa485:0xacbd33cecf7d50d4</td>\n",
       "    </tr>\n",
       "  </tbody>\n",
       "</table>\n",
       "</div>"
      ],
      "text/plain": [
       "           user_id                        name                     time   \n",
       "6078  1.073504e+20               Ashish Mishra  2017-09-04 00:37:53.111  \\\n",
       "6079  1.086090e+20                     Harry E  2017-08-22 17:48:07.673   \n",
       "6080  1.025835e+20                Deneen Homer  2016-10-12 17:33:52.337   \n",
       "6081  1.144082e+20           Anumit Sasidharan  2016-05-30 07:31:40.850   \n",
       "6082  1.141696e+20               Manuel Medina  2016-04-26 07:42:28.910   \n",
       "6083  1.127285e+20                    Don Todd  2018-03-20 02:12:33.163   \n",
       "6084  1.040970e+20  Luc “190falcon” Blanchette  2017-02-05 12:06:51.870   \n",
       "6085  1.032762e+20                 Kathy Reeks  2018-02-26 14:43:08.810   \n",
       "6086  1.028247e+20              Matthew Gordon  2018-03-20 06:25:39.435   \n",
       "6087  1.029704e+20               Charlene Cook  2017-10-07 08:14:14.038   \n",
       "\n",
       "      rating                                               text pics resp   \n",
       "6078       3  Rooms are clean, but small.. breakfast choice ...  NaN  NaN  \\\n",
       "6079       3  Seems to be a decent place but kind of pricey ...  NaN  NaN   \n",
       "6080       2          Horrible customer service...minimum clean  NaN  NaN   \n",
       "6081       4  Reasonably clean and good amenities for the pr...  NaN  NaN   \n",
       "6082       4                                         Nice rooms  NaN  NaN   \n",
       "6083       1                                                NaN  NaN  NaN   \n",
       "6084       3                                                NaN  NaN  NaN   \n",
       "6085       5                                                NaN  NaN  NaN   \n",
       "6086       3                                                NaN  NaN  NaN   \n",
       "6087       1                                                NaN  NaN  NaN   \n",
       "\n",
       "                                    gmap_id  \n",
       "6078  0x89dfce4984aaa485:0xacbd33cecf7d50d4  \n",
       "6079  0x89dfce4984aaa485:0xacbd33cecf7d50d4  \n",
       "6080  0x89dfce4984aaa485:0xacbd33cecf7d50d4  \n",
       "6081  0x89dfce4984aaa485:0xacbd33cecf7d50d4  \n",
       "6082  0x89dfce4984aaa485:0xacbd33cecf7d50d4  \n",
       "6083  0x89dfce4984aaa485:0xacbd33cecf7d50d4  \n",
       "6084  0x89dfce4984aaa485:0xacbd33cecf7d50d4  \n",
       "6085  0x89dfce4984aaa485:0xacbd33cecf7d50d4  \n",
       "6086  0x89dfce4984aaa485:0xacbd33cecf7d50d4  \n",
       "6087  0x89dfce4984aaa485:0xacbd33cecf7d50d4  "
      ]
     },
     "execution_count": 35,
     "metadata": {},
     "output_type": "execute_result"
    }
   ],
   "source": [
    "# Concatenar los tres dataset en uno \n",
    "merged_reviews = pd.concat([california, las_vegas, nueva_york], ignore_index=True)\n",
    "print(merged_reviews.shape)\n",
    "merged_reviews.tail(10)"
   ]
  },
  {
   "cell_type": "code",
   "execution_count": 36,
   "metadata": {},
   "outputs": [
    {
     "data": {
      "text/plain": [
       "Index(['user_id', 'name', 'time', 'rating', 'text', 'pics', 'resp', 'gmap_id'], dtype='object')"
      ]
     },
     "execution_count": 36,
     "metadata": {},
     "output_type": "execute_result"
    }
   ],
   "source": [
    "merged_reviews.columns"
   ]
  },
  {
   "cell_type": "markdown",
   "metadata": {},
   "source": [
    "- user_id = id del usuario que hace la reseña\n",
    "- name = nombre del usuario\n",
    "- time = fecha en que se realizo la reseña\n",
    "- rating = calificación dada por el usuario del 1 al 5\n",
    "- text = reseña del usuario\n",
    "- pics = url de las fotos que acompañan a la reseña\n",
    "- resp = respuesta de la reseña por parte del negocio, contiene de forma anidada una fecha y un texto\n",
    "- gmap_id = id del mapa"
   ]
  },
  {
   "cell_type": "code",
   "execution_count": 37,
   "metadata": {},
   "outputs": [
    {
     "name": "stdout",
     "output_type": "stream",
     "text": [
      "<class 'pandas.core.frame.DataFrame'>\n",
      "RangeIndex: 6088 entries, 0 to 6087\n",
      "Data columns (total 8 columns):\n",
      " #   Column   Non-Null Count  Dtype  \n",
      "---  ------   --------------  -----  \n",
      " 0   user_id  6088 non-null   float64\n",
      " 1   name     6088 non-null   object \n",
      " 2   time     6088 non-null   object \n",
      " 3   rating   6088 non-null   int64  \n",
      " 4   text     3970 non-null   object \n",
      " 5   pics     202 non-null    object \n",
      " 6   resp     383 non-null    object \n",
      " 7   gmap_id  6088 non-null   object \n",
      "dtypes: float64(1), int64(1), object(6)\n",
      "memory usage: 380.6+ KB\n"
     ]
    }
   ],
   "source": [
    "# informacion de las columnas \n",
    "merged_reviews.info()"
   ]
  },
  {
   "cell_type": "markdown",
   "metadata": {},
   "source": [
    "Se pueden observar que en la columna de text, pics y resp hacen falta datos por lo que debemos normalizarlos "
   ]
  },
  {
   "cell_type": "code",
   "execution_count": 53,
   "metadata": {},
   "outputs": [],
   "source": [
    "#recuento de nulos\n",
    "total_datos=merged_reviews.shape[0]\n",
    "total_no_nulos_text = total_datos - merged_reviews[\"text\"].isnull().sum()\n",
    "total_no_nulos_pics = total_datos - merged_reviews[\"pics\"].isnull().sum()\n",
    "total_no_nulos_resp = total_datos - merged_reviews[\"resp\"].isnull().sum()\n",
    "total_no_nulos_name = total_datos - merged_reviews[\"name\"].isnull().sum()\n",
    "total_no_nulos_time = total_datos - merged_reviews[\"time\"].isnull().sum()\n",
    "total_no_nulos_rating = total_datos - merged_reviews[\"rating\"].isnull().sum()\n",
    "total_no_nulos_gmap_id = total_datos - merged_reviews[\"gmap_id\"].isnull().sum()\n"
   ]
  },
  {
   "cell_type": "code",
   "execution_count": 62,
   "metadata": {},
   "outputs": [
    {
     "data": {
      "application/vnd.plotly.v1+json": {
       "config": {
        "plotlyServerURL": "https://plot.ly"
       },
       "data": [
        {
         "marker": {
          "color": [
           "#4D77FF",
           "#56BBF1",
           "#5EE6EB",
           "orange",
           "orange",
           "orange",
           "orange"
          ]
         },
         "type": "bar",
         "x": [
          "text",
          "pics",
          "resp",
          "name",
          "time",
          "rating",
          "gmai_id"
         ],
         "y": [
          3970,
          202,
          383,
          6088,
          6088,
          6088,
          6088
         ]
        }
       ],
       "layout": {
        "template": {
         "data": {
          "bar": [
           {
            "error_x": {
             "color": "#2a3f5f"
            },
            "error_y": {
             "color": "#2a3f5f"
            },
            "marker": {
             "line": {
              "color": "#E5ECF6",
              "width": 0.5
             },
             "pattern": {
              "fillmode": "overlay",
              "size": 10,
              "solidity": 0.2
             }
            },
            "type": "bar"
           }
          ],
          "barpolar": [
           {
            "marker": {
             "line": {
              "color": "#E5ECF6",
              "width": 0.5
             },
             "pattern": {
              "fillmode": "overlay",
              "size": 10,
              "solidity": 0.2
             }
            },
            "type": "barpolar"
           }
          ],
          "carpet": [
           {
            "aaxis": {
             "endlinecolor": "#2a3f5f",
             "gridcolor": "white",
             "linecolor": "white",
             "minorgridcolor": "white",
             "startlinecolor": "#2a3f5f"
            },
            "baxis": {
             "endlinecolor": "#2a3f5f",
             "gridcolor": "white",
             "linecolor": "white",
             "minorgridcolor": "white",
             "startlinecolor": "#2a3f5f"
            },
            "type": "carpet"
           }
          ],
          "choropleth": [
           {
            "colorbar": {
             "outlinewidth": 0,
             "ticks": ""
            },
            "type": "choropleth"
           }
          ],
          "contour": [
           {
            "colorbar": {
             "outlinewidth": 0,
             "ticks": ""
            },
            "colorscale": [
             [
              0,
              "#0d0887"
             ],
             [
              0.1111111111111111,
              "#46039f"
             ],
             [
              0.2222222222222222,
              "#7201a8"
             ],
             [
              0.3333333333333333,
              "#9c179e"
             ],
             [
              0.4444444444444444,
              "#bd3786"
             ],
             [
              0.5555555555555556,
              "#d8576b"
             ],
             [
              0.6666666666666666,
              "#ed7953"
             ],
             [
              0.7777777777777778,
              "#fb9f3a"
             ],
             [
              0.8888888888888888,
              "#fdca26"
             ],
             [
              1,
              "#f0f921"
             ]
            ],
            "type": "contour"
           }
          ],
          "contourcarpet": [
           {
            "colorbar": {
             "outlinewidth": 0,
             "ticks": ""
            },
            "type": "contourcarpet"
           }
          ],
          "heatmap": [
           {
            "colorbar": {
             "outlinewidth": 0,
             "ticks": ""
            },
            "colorscale": [
             [
              0,
              "#0d0887"
             ],
             [
              0.1111111111111111,
              "#46039f"
             ],
             [
              0.2222222222222222,
              "#7201a8"
             ],
             [
              0.3333333333333333,
              "#9c179e"
             ],
             [
              0.4444444444444444,
              "#bd3786"
             ],
             [
              0.5555555555555556,
              "#d8576b"
             ],
             [
              0.6666666666666666,
              "#ed7953"
             ],
             [
              0.7777777777777778,
              "#fb9f3a"
             ],
             [
              0.8888888888888888,
              "#fdca26"
             ],
             [
              1,
              "#f0f921"
             ]
            ],
            "type": "heatmap"
           }
          ],
          "heatmapgl": [
           {
            "colorbar": {
             "outlinewidth": 0,
             "ticks": ""
            },
            "colorscale": [
             [
              0,
              "#0d0887"
             ],
             [
              0.1111111111111111,
              "#46039f"
             ],
             [
              0.2222222222222222,
              "#7201a8"
             ],
             [
              0.3333333333333333,
              "#9c179e"
             ],
             [
              0.4444444444444444,
              "#bd3786"
             ],
             [
              0.5555555555555556,
              "#d8576b"
             ],
             [
              0.6666666666666666,
              "#ed7953"
             ],
             [
              0.7777777777777778,
              "#fb9f3a"
             ],
             [
              0.8888888888888888,
              "#fdca26"
             ],
             [
              1,
              "#f0f921"
             ]
            ],
            "type": "heatmapgl"
           }
          ],
          "histogram": [
           {
            "marker": {
             "pattern": {
              "fillmode": "overlay",
              "size": 10,
              "solidity": 0.2
             }
            },
            "type": "histogram"
           }
          ],
          "histogram2d": [
           {
            "colorbar": {
             "outlinewidth": 0,
             "ticks": ""
            },
            "colorscale": [
             [
              0,
              "#0d0887"
             ],
             [
              0.1111111111111111,
              "#46039f"
             ],
             [
              0.2222222222222222,
              "#7201a8"
             ],
             [
              0.3333333333333333,
              "#9c179e"
             ],
             [
              0.4444444444444444,
              "#bd3786"
             ],
             [
              0.5555555555555556,
              "#d8576b"
             ],
             [
              0.6666666666666666,
              "#ed7953"
             ],
             [
              0.7777777777777778,
              "#fb9f3a"
             ],
             [
              0.8888888888888888,
              "#fdca26"
             ],
             [
              1,
              "#f0f921"
             ]
            ],
            "type": "histogram2d"
           }
          ],
          "histogram2dcontour": [
           {
            "colorbar": {
             "outlinewidth": 0,
             "ticks": ""
            },
            "colorscale": [
             [
              0,
              "#0d0887"
             ],
             [
              0.1111111111111111,
              "#46039f"
             ],
             [
              0.2222222222222222,
              "#7201a8"
             ],
             [
              0.3333333333333333,
              "#9c179e"
             ],
             [
              0.4444444444444444,
              "#bd3786"
             ],
             [
              0.5555555555555556,
              "#d8576b"
             ],
             [
              0.6666666666666666,
              "#ed7953"
             ],
             [
              0.7777777777777778,
              "#fb9f3a"
             ],
             [
              0.8888888888888888,
              "#fdca26"
             ],
             [
              1,
              "#f0f921"
             ]
            ],
            "type": "histogram2dcontour"
           }
          ],
          "mesh3d": [
           {
            "colorbar": {
             "outlinewidth": 0,
             "ticks": ""
            },
            "type": "mesh3d"
           }
          ],
          "parcoords": [
           {
            "line": {
             "colorbar": {
              "outlinewidth": 0,
              "ticks": ""
             }
            },
            "type": "parcoords"
           }
          ],
          "pie": [
           {
            "automargin": true,
            "type": "pie"
           }
          ],
          "scatter": [
           {
            "fillpattern": {
             "fillmode": "overlay",
             "size": 10,
             "solidity": 0.2
            },
            "type": "scatter"
           }
          ],
          "scatter3d": [
           {
            "line": {
             "colorbar": {
              "outlinewidth": 0,
              "ticks": ""
             }
            },
            "marker": {
             "colorbar": {
              "outlinewidth": 0,
              "ticks": ""
             }
            },
            "type": "scatter3d"
           }
          ],
          "scattercarpet": [
           {
            "marker": {
             "colorbar": {
              "outlinewidth": 0,
              "ticks": ""
             }
            },
            "type": "scattercarpet"
           }
          ],
          "scattergeo": [
           {
            "marker": {
             "colorbar": {
              "outlinewidth": 0,
              "ticks": ""
             }
            },
            "type": "scattergeo"
           }
          ],
          "scattergl": [
           {
            "marker": {
             "colorbar": {
              "outlinewidth": 0,
              "ticks": ""
             }
            },
            "type": "scattergl"
           }
          ],
          "scattermapbox": [
           {
            "marker": {
             "colorbar": {
              "outlinewidth": 0,
              "ticks": ""
             }
            },
            "type": "scattermapbox"
           }
          ],
          "scatterpolar": [
           {
            "marker": {
             "colorbar": {
              "outlinewidth": 0,
              "ticks": ""
             }
            },
            "type": "scatterpolar"
           }
          ],
          "scatterpolargl": [
           {
            "marker": {
             "colorbar": {
              "outlinewidth": 0,
              "ticks": ""
             }
            },
            "type": "scatterpolargl"
           }
          ],
          "scatterternary": [
           {
            "marker": {
             "colorbar": {
              "outlinewidth": 0,
              "ticks": ""
             }
            },
            "type": "scatterternary"
           }
          ],
          "surface": [
           {
            "colorbar": {
             "outlinewidth": 0,
             "ticks": ""
            },
            "colorscale": [
             [
              0,
              "#0d0887"
             ],
             [
              0.1111111111111111,
              "#46039f"
             ],
             [
              0.2222222222222222,
              "#7201a8"
             ],
             [
              0.3333333333333333,
              "#9c179e"
             ],
             [
              0.4444444444444444,
              "#bd3786"
             ],
             [
              0.5555555555555556,
              "#d8576b"
             ],
             [
              0.6666666666666666,
              "#ed7953"
             ],
             [
              0.7777777777777778,
              "#fb9f3a"
             ],
             [
              0.8888888888888888,
              "#fdca26"
             ],
             [
              1,
              "#f0f921"
             ]
            ],
            "type": "surface"
           }
          ],
          "table": [
           {
            "cells": {
             "fill": {
              "color": "#EBF0F8"
             },
             "line": {
              "color": "white"
             }
            },
            "header": {
             "fill": {
              "color": "#C8D4E3"
             },
             "line": {
              "color": "white"
             }
            },
            "type": "table"
           }
          ]
         },
         "layout": {
          "annotationdefaults": {
           "arrowcolor": "#2a3f5f",
           "arrowhead": 0,
           "arrowwidth": 1
          },
          "autotypenumbers": "strict",
          "coloraxis": {
           "colorbar": {
            "outlinewidth": 0,
            "ticks": ""
           }
          },
          "colorscale": {
           "diverging": [
            [
             0,
             "#8e0152"
            ],
            [
             0.1,
             "#c51b7d"
            ],
            [
             0.2,
             "#de77ae"
            ],
            [
             0.3,
             "#f1b6da"
            ],
            [
             0.4,
             "#fde0ef"
            ],
            [
             0.5,
             "#f7f7f7"
            ],
            [
             0.6,
             "#e6f5d0"
            ],
            [
             0.7,
             "#b8e186"
            ],
            [
             0.8,
             "#7fbc41"
            ],
            [
             0.9,
             "#4d9221"
            ],
            [
             1,
             "#276419"
            ]
           ],
           "sequential": [
            [
             0,
             "#0d0887"
            ],
            [
             0.1111111111111111,
             "#46039f"
            ],
            [
             0.2222222222222222,
             "#7201a8"
            ],
            [
             0.3333333333333333,
             "#9c179e"
            ],
            [
             0.4444444444444444,
             "#bd3786"
            ],
            [
             0.5555555555555556,
             "#d8576b"
            ],
            [
             0.6666666666666666,
             "#ed7953"
            ],
            [
             0.7777777777777778,
             "#fb9f3a"
            ],
            [
             0.8888888888888888,
             "#fdca26"
            ],
            [
             1,
             "#f0f921"
            ]
           ],
           "sequentialminus": [
            [
             0,
             "#0d0887"
            ],
            [
             0.1111111111111111,
             "#46039f"
            ],
            [
             0.2222222222222222,
             "#7201a8"
            ],
            [
             0.3333333333333333,
             "#9c179e"
            ],
            [
             0.4444444444444444,
             "#bd3786"
            ],
            [
             0.5555555555555556,
             "#d8576b"
            ],
            [
             0.6666666666666666,
             "#ed7953"
            ],
            [
             0.7777777777777778,
             "#fb9f3a"
            ],
            [
             0.8888888888888888,
             "#fdca26"
            ],
            [
             1,
             "#f0f921"
            ]
           ]
          },
          "colorway": [
           "#636efa",
           "#EF553B",
           "#00cc96",
           "#ab63fa",
           "#FFA15A",
           "#19d3f3",
           "#FF6692",
           "#B6E880",
           "#FF97FF",
           "#FECB52"
          ],
          "font": {
           "color": "#2a3f5f"
          },
          "geo": {
           "bgcolor": "white",
           "lakecolor": "white",
           "landcolor": "#E5ECF6",
           "showlakes": true,
           "showland": true,
           "subunitcolor": "white"
          },
          "hoverlabel": {
           "align": "left"
          },
          "hovermode": "closest",
          "mapbox": {
           "style": "light"
          },
          "paper_bgcolor": "white",
          "plot_bgcolor": "#E5ECF6",
          "polar": {
           "angularaxis": {
            "gridcolor": "white",
            "linecolor": "white",
            "ticks": ""
           },
           "bgcolor": "#E5ECF6",
           "radialaxis": {
            "gridcolor": "white",
            "linecolor": "white",
            "ticks": ""
           }
          },
          "scene": {
           "xaxis": {
            "backgroundcolor": "#E5ECF6",
            "gridcolor": "white",
            "gridwidth": 2,
            "linecolor": "white",
            "showbackground": true,
            "ticks": "",
            "zerolinecolor": "white"
           },
           "yaxis": {
            "backgroundcolor": "#E5ECF6",
            "gridcolor": "white",
            "gridwidth": 2,
            "linecolor": "white",
            "showbackground": true,
            "ticks": "",
            "zerolinecolor": "white"
           },
           "zaxis": {
            "backgroundcolor": "#E5ECF6",
            "gridcolor": "white",
            "gridwidth": 2,
            "linecolor": "white",
            "showbackground": true,
            "ticks": "",
            "zerolinecolor": "white"
           }
          },
          "shapedefaults": {
           "line": {
            "color": "#2a3f5f"
           }
          },
          "ternary": {
           "aaxis": {
            "gridcolor": "white",
            "linecolor": "white",
            "ticks": ""
           },
           "baxis": {
            "gridcolor": "white",
            "linecolor": "white",
            "ticks": ""
           },
           "bgcolor": "#E5ECF6",
           "caxis": {
            "gridcolor": "white",
            "linecolor": "white",
            "ticks": ""
           }
          },
          "title": {
           "x": 0.05
          },
          "xaxis": {
           "automargin": true,
           "gridcolor": "white",
           "linecolor": "white",
           "ticks": "",
           "title": {
            "standoff": 15
           },
           "zerolinecolor": "white",
           "zerolinewidth": 2
          },
          "yaxis": {
           "automargin": true,
           "gridcolor": "white",
           "linecolor": "white",
           "ticks": "",
           "title": {
            "standoff": 15
           },
           "zerolinecolor": "white",
           "zerolinewidth": 2
          }
         }
        },
        "title": {
         "text": "Valores No Nulos",
         "x": 0.5
        },
        "xaxis": {
         "title": {
          "text": "Categorías"
         }
        },
        "yaxis": {
         "title": {
          "text": "Valores"
         }
        }
       }
      }
     },
     "metadata": {},
     "output_type": "display_data"
    }
   ],
   "source": [
    "categorias = ['text', 'pics', 'resp', 'name', 'time', 'rating','gmai_id']\n",
    "valores = [total_no_nulos_text, total_no_nulos_pics, total_no_nulos_resp,total_no_nulos_name, total_no_nulos_time, total_no_nulos_rating, total_no_nulos_gmap_id]\n",
    "\n",
    "# Colores para las barras (uno por cada barra)\n",
    "colores_barras = ['#4D77FF', '#56BBF1', '#5EE6EB', 'orange', 'orange', 'orange', 'orange']\n",
    "\n",
    "# Crear el gráfico de barras\n",
    "fig = go.Figure(data=[go.Bar(x=categorias, y=valores, marker_color=colores_barras)])\n",
    "\n",
    "\n",
    "# Personalizar el diseño del gráfico\n",
    "fig.update_layout(title='Valores No Nulos', title_x=0.5,  \n",
    "                  xaxis_title='Categorías',\n",
    "                  yaxis_title='Valores')\n",
    "fig.show()\n"
   ]
  },
  {
   "cell_type": "code",
   "execution_count": null,
   "metadata": {},
   "outputs": [],
   "source": [
    "# NORMALIZAR DATOS NaN\n",
    "merged_reviews[\"text\"] = merged_reviews[\"text\"].fillna(\"\")\n",
    "merged_reviews[\"pics\"] = merged_reviews[\"pics\"].fillna(\"\")\n",
    "merged_reviews[\"resp\"] = merged_reviews[\"resp\"].fillna(\"\")\n",
    "merged_reviews.tail(10)\n"
   ]
  },
  {
   "cell_type": "code",
   "execution_count": null,
   "metadata": {},
   "outputs": [],
   "source": []
  }
 ],
 "metadata": {
  "kernelspec": {
   "display_name": "Python 3",
   "language": "python",
   "name": "python3"
  },
  "language_info": {
   "codemirror_mode": {
    "name": "ipython",
    "version": 3
   },
   "file_extension": ".py",
   "mimetype": "text/x-python",
   "name": "python",
   "nbconvert_exporter": "python",
   "pygments_lexer": "ipython3",
   "version": "3.9.6"
  },
  "orig_nbformat": 4
 },
 "nbformat": 4,
 "nbformat_minor": 2
}
